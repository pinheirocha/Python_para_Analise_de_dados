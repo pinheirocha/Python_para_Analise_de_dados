{
 "cells": [
  {
   "cell_type": "code",
   "execution_count": 1,
   "metadata": {},
   "outputs": [],
   "source": [
    "import numpy as np"
   ]
  },
  {
   "cell_type": "code",
   "execution_count": 2,
   "metadata": {},
   "outputs": [
    {
     "data": {
      "text/plain": [
       "{0: 0.27001853073128,\n",
       " 1: 0.19403902090925154,\n",
       " 2: -1.266797902310956,\n",
       " 3: -0.3119275857494303,\n",
       " 4: 0.41701255728956294,\n",
       " 5: 0.46802325829276253,\n",
       " 6: -1.1261474203897748,\n",
       " 7: 0.47141970246141573,\n",
       " 8: -0.3694234478258791,\n",
       " 9: 0.7279612243983854}"
      ]
     },
     "execution_count": 2,
     "metadata": {},
     "output_type": "execute_result"
    }
   ],
   "source": [
    "data = {i : np.random.randn() for i in range(10)}\n",
    "data"
   ]
  },
  {
   "cell_type": "code",
   "execution_count": 3,
   "metadata": {},
   "outputs": [
    {
     "name": "stdout",
     "output_type": "stream",
     "text": [
      "{0: 0.3513426195978602, 1: -0.9275684780882612, 2: -0.12772108707693444, 3: 0.02095949088495378, 4: 1.512783471230269, 5: 1.0318671989553745, 6: 0.3530945785948941, 7: -0.4624192037264787, 8: -1.829640579857713, 9: 0.7946048277069426}\n"
     ]
    },
    {
     "data": {
      "text/plain": [
       "{0: 0.3513426195978602,\n",
       " 1: -0.9275684780882612,\n",
       " 2: -0.12772108707693444,\n",
       " 3: 0.02095949088495378,\n",
       " 4: 1.512783471230269,\n",
       " 5: 1.0318671989553745,\n",
       " 6: 0.3530945785948941,\n",
       " 7: -0.4624192037264787,\n",
       " 8: -1.829640579857713,\n",
       " 9: 0.7946048277069426}"
      ]
     },
     "execution_count": 3,
     "metadata": {},
     "output_type": "execute_result"
    }
   ],
   "source": [
    "data = {i : np.random.randn() for i in range(10)}\n",
    "print(data)\n",
    "data"
   ]
  },
  {
   "cell_type": "code",
   "execution_count": 4,
   "metadata": {},
   "outputs": [],
   "source": [
    "an_apple = 27\n",
    "an_example = 42"
   ]
  },
  {
   "cell_type": "code",
   "execution_count": 9,
   "metadata": {},
   "outputs": [
    {
     "data": {
      "text/plain": [
       "42"
      ]
     },
     "execution_count": 9,
     "metadata": {},
     "output_type": "execute_result"
    }
   ],
   "source": [
    "an_example"
   ]
  },
  {
   "cell_type": "code",
   "execution_count": 2,
   "metadata": {},
   "outputs": [],
   "source": [
    "b = [1, 2, 3]"
   ]
  },
  {
   "cell_type": "code",
   "execution_count": 12,
   "metadata": {},
   "outputs": [
    {
     "name": "stdout",
     "output_type": "stream",
     "text": [
      "\u001b[1;31mType:\u001b[0m        list\n",
      "\u001b[1;31mString form:\u001b[0m [1, 2, 3]\n",
      "\u001b[1;31mLength:\u001b[0m      3\n",
      "\u001b[1;31mDocstring:\u001b[0m  \n",
      "Built-in mutable sequence.\n",
      "\n",
      "If no argument is given, the constructor creates a new empty list.\n",
      "The argument must be an iterable if specified."
     ]
    }
   ],
   "source": [
    "b"
   ]
  }
 ],
 "metadata": {
  "kernelspec": {
   "display_name": "Python 3",
   "language": "python",
   "name": "python3"
  },
  "language_info": {
   "codemirror_mode": {
    "name": "ipython",
    "version": 3
   },
   "file_extension": ".py",
   "mimetype": "text/x-python",
   "name": "python",
   "nbconvert_exporter": "python",
   "pygments_lexer": "ipython3",
   "version": "3.11.4"
  },
  "orig_nbformat": 4
 },
 "nbformat": 4,
 "nbformat_minor": 2
}
